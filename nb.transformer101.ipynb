{
 "cells": [
  {
   "cell_type": "markdown",
   "metadata": {},
   "source": [
    "## Transformer101"
   ]
  },
  {
   "cell_type": "markdown",
   "metadata": {},
   "source": [
    "Vanilla implementation in Pytorch of the Transformer model as introduced in the paper [Attention Is All You Need, 2017](https://arxiv.org/pdf/1706.03762.pdf) by Ashish Vaswani, Noam Shazeer, Niki Parmar, Jakob Uszkoreit, Llion Jones, Aidan N Gomez, Lukasz Kaiser, and Illia Polosukhin.\n",
    "\n",
    "``Scaled Dot-Product Attention`` | ``Multi-Head Attention`` | ``Absolute Positional Encodings`` | ``Learned Positional Encodings`` | ``Dropout`` | ``Layer Normalization`` | ``Residual Connection`` | ``Linear Layer`` | ``Position-Wise Feed-Forward Layer`` | ``GELU`` | ``Softmax`` | ``Encoder`` | ``Decorder`` | ``Transformer``"
   ]
  },
  {
   "cell_type": "markdown",
   "metadata": {},
   "source": [
    "### 1. Background\n",
    "\n",
    "Sequence modeling and transduction tasks, such as language modeling and machine translation, were typically addressed with RNNs and CNNs. However, these architectures are limited by: (i) ``long training times``, due to the sequential nature of RNNs, which constrains parallelization, and results in increased memory and computational demands as the text sequence grows; and (ii) ``difficulty in learning dependencies between distant positions``, where CNNs, although much less sequential than RNNs, require a number of steps to integrate information that is, in most cases, correlated (linearly for models like ConvS2S and logarithmically for ByteNet) with the distance between elements in the sequence."
   ]
  },
  {
   "cell_type": "markdown",
   "metadata": {},
   "source": [
    "### 2. Technical Approach\n",
    "\n",
    "The paper 'Attention is All You Need' introduced the novel Transformer model, ``a stacked encoder-decoder architecture that utilizes self-attention mechanisms instead of recurrence and convolution to compute input and output representations``. In this model, each of the six layers of both the encoder and decoder is composed of two main sub-layers: a multihead self-attention sub-layer, which allows the model to focus on different parts of the input sequence, and a position-wise fully connected feed-forward sub-layer.\n",
    "\n",
    "At its core, the ``self-attention mechanism`` enables the model to weigh the relationships between input tokens at different positions, resulting in a more effective handling of long-range dependencies. Additionally, by integrating ``multiple attention heads``, the model gains the ability to simultaneously attend to various aspects of the input data during training.\n",
    "\n",
    "In the proposed implementation, the input and output tokens are converted to 512-dimensional embeddings, to which ``positional embeddings`` are added, enabling the model to use sequence order information."
   ]
  },
  {
   "cell_type": "markdown",
   "metadata": {},
   "source": [
    "### 3. Implementation"
   ]
  },
  {
   "cell_type": "code",
   "execution_count": 93,
   "metadata": {},
   "outputs": [],
   "source": [
    "import torch\n",
    "import torch.nn as nn"
   ]
  },
  {
   "cell_type": "code",
   "execution_count": 94,
   "metadata": {},
   "outputs": [],
   "source": [
    "from dataclasses import dataclass\n",
    "\n",
    "@dataclass\n",
    "class TransformerConfig:\n",
    "    n_layer: int = 6        # number of encoder/decoder layers\n",
    "    n_head: int = 12        # number of attention heads\n",
    "    d_embd: int = 768       # dimension of the token embeddings\n",
    "    d_ff: int = 3072        # dimension of the feedforward network model in nn.TransformerEncoder\n",
    "    max_seq_len: int = 100  # maximum sequence length\n",
    "    drop: float = 0.1       # dropout probability\n",
    "    bias: bool = False      # use_bias=False for nn.Linear as LayerNorm already includes bias"
   ]
  },
  {
   "cell_type": "code",
   "execution_count": 102,
   "metadata": {},
   "outputs": [],
   "source": [
    "config = TransformerConfig()"
   ]
  },
  {
   "cell_type": "markdown",
   "metadata": {},
   "source": [
    "#### 3.1 Self-Attention\n",
    "\n",
    "The intuition behind ``self-attention`` is that averaging token embeddings instead of using a fixed embedding for each token, enables the model to capture how words relate to each other in the input. In practice, said weighted relationships (attention weights) represent the syntactic and contextual structure of the sentence, leading to a more nuanced and rich understanding of the data.\n",
    "\n",
    "The most common way to implement a self-attention layer relies on ``scaled dot-product attention``, and involves:\n",
    "1. ``Linear projection`` of each token embedding into three vectors: ``query (q)``, ``key (k)``, ``value (v)``.\n",
    "2. Compute ``scaled attention scores``: determine the similary between ``q`` and ``k`` by applying the ``dot product``. Since the results of this function are typically large numbers, they are then divided by a scaling factor inferred from the dimensionality of (k). This scaling contributes to stabilize gradients during training.\n",
    "3. Normalize the ``attention scores`` into ``attention weights`` by applying the ``softmax`` function (this ensures all the values sum to 1).\n",
    "4. ``Update the token embeddings`` by multiplying the ``attention weights`` by the ``value vector``.\n",
    "\n",
    "> In addition, the self-attention mechanism of the decoder layer introduces ``masking`` to prevent the decoder from having access to future tokens in the sequence it is generating. In practice, this is implemented with a binary mask that designates which tokens should be attended to (assigned non-zero weights) and which should be ignored (assigned zero weights). In our function, setting the future tokens (upper values) to negative-infinity guarantees that the attention weights become zero after applying the softmax function (e exp -inf == 0). This design aligns with the nature of many tasks like translation, summarization, or text generation, where the output sequence needs to be generated one element at a time, and the prediction of each element should be based only on the previously generated elements."
   ]
  },
  {
   "cell_type": "code",
   "execution_count": 96,
   "metadata": {},
   "outputs": [],
   "source": [
    "class AttentionHead(nn.Module):\n",
    "    \"\"\"\n",
    "    Represents a single attention head within a multi-head attention mechanism.\n",
    "    \n",
    "    Args:\n",
    "        config (TransformerConfig): The configuration for the transformer model.\n",
    "    \"\"\"\n",
    "    def __init__(self, config):\n",
    "        super().__init__()\n",
    "        self.d_embd = config.d_embd\n",
    "        self.d_head = self.d_embd // config.n_head\n",
    "        # step_1: linear projections to query (q), key (k), and value (v) vectors\n",
    "        self.q = nn.Linear(self.d_embd, self.d_head)\n",
    "        self.k = nn.Linear(self.d_embd, self.d_head)\n",
    "        self.v = nn.Linear(self.d_embd, self.d_head)\n",
    "\n",
    "    def scaled_dot_product_attention(self, q, k, v, mask=None):\n",
    "        dim_k = torch.tensor(k.size(-1), dtype=torch.float32)\n",
    "        # step_2: calculate similarity with the dot product, and scale attention scores\n",
    "        attn_scores = torch.bmm(q, k.transpose(1, 2)) / torch.sqrt(dim_k)\n",
    "        if mask is not None:\n",
    "            attn_scores = attn_scores.masked_fill(mask == 0, float('-inf'))\n",
    "        # step_3: normalize the attention scores with the softmax function\n",
    "        attn_weights = torch.softmax(attn_scores, axis=-1)\n",
    "        # step_4: update the token embeddings by multiplying attention weights by the value vector\n",
    "        output = torch.bmm(attn_weights, v)\n",
    "        return output\n",
    "\n",
    "    def forward(self, x, mask=None):\n",
    "        output = self.scaled_dot_product_attention(self.q(x), \n",
    "                                                   self.k(x), \n",
    "                                                   self.v(x), \n",
    "                                                   mask=mask)\n",
    "        return output"
   ]
  },
  {
   "cell_type": "markdown",
   "metadata": {},
   "source": [
    "#### 3.2 Multi-Headed Attention\n",
    "\n",
    "In a standard attention mechanism, the ``softmax`` of a single head tends to concentrate on a specific aspect of similarity, potentially overlooking other relevant features in the input. By integrating multiple attention heads, the model gains the ability to simultaneously attend to various aspects of the input data.\n",
    "\n",
    "The basic approach to implement Multi-Headed Attention comprises:\n",
    "\n",
    "1. Initialize the ``attention heads``. E.g. BERT has 12 attention heads whereas the embeddings dimension is 768, resulting in 768 / 12 = 64 as the head dimension.\n",
    "2. ``Concatenate attention heads`` to combines the outputs of the attention heads into a single vector while preserving the dimensionality of the embeddings.\n",
    "3. Apply a ``linear projection``.\n",
    "\n",
    "> Note that the softmax function is a probability distribution, which when applied within a single attention head tends to amplify certain features (those with higher scores) while diminishing others. Thus, leading to a focus on specific aspects of similarity."
   ]
  },
  {
   "cell_type": "code",
   "execution_count": 98,
   "metadata": {},
   "outputs": [],
   "source": [
    "class MultiHeadAttention(nn.Module):\n",
    "    \"\"\"\n",
    "    Implements the Multi-Head Attention mechanism.\n",
    "\n",
    "    Args:\n",
    "        config (TransformerConfig): The configuration for the transformer model.\n",
    "    \"\"\"\n",
    "    def __init__(self, config):\n",
    "        super().__init__()\n",
    "        \n",
    "        self.d_embd = config.d_embd\n",
    "        self.n_head = config.n_head\n",
    "\n",
    "        if self.d_embd < 0 or self.n_head < 0:\n",
    "            raise ValueError(\"Embedding dimension and number of heads must be greater than 0\")\n",
    "        assert self.d_embd % self.n_head == 0, \"d_embd must be divisible by n_head\"\n",
    "\n",
    "        self.heads = nn.ModuleList([AttentionHead(config) for _ in range(self.n_head)])\n",
    "        self.linear = nn.Linear(self.d_embd, self.d_embd)\n",
    "\n",
    "    def forward(self, x, mask=None):\n",
    "        attn_outputs = torch.cat([h(x, mask) for h in self.heads], dim=-1)\n",
    "        output = self.linear(attn_outputs)\n",
    "        return output"
   ]
  },
  {
   "cell_type": "code",
   "execution_count": 103,
   "metadata": {},
   "outputs": [
    {
     "data": {
      "text/plain": [
       "torch.Size([1, 10, 768])"
      ]
     },
     "execution_count": 103,
     "metadata": {},
     "output_type": "execute_result"
    }
   ],
   "source": [
    "multihead_attn = MultiHeadAttention(config)\n",
    "attn_output = multihead_attn(torch.rand(1, 10, 768))\n",
    "attn_output.size()"
   ]
  },
  {
   "cell_type": "markdown",
   "metadata": {},
   "source": [
    "#### 3.3 Position-Wise Feed-Forward Layer\n",
    "\n",
    "The Transformer, primarily built upon linear operations like ``dot products`` and ``linear projections``, relies on the ``Position-Wise Feed-Forward Layer`` to introduce non-linearity into the model. This non-linearity enables the model to capture complex data patterns and relationships. The layer typically consists of two linear transformations with a ``non-linear activation function (like ReLU or GELU)``. Each layer in the ``Encoder`` and ``Decoder`` includes one of these feed-forward networks, allowing the model to build increasingly abstract representations of the input data as it passes through successive layers. Note that since this layer processes each embedding independly, the computations can be fully parallelized.\n",
    "\n",
    "In summary, this Layer comprises:\n",
    "- ``First linear transformation`` to the input tensor. \n",
    "- A non-linear ``activation function`` to allow the model learn more complex patterns.\n",
    "- ``Second linear transformation``, increasing the model's capacity to learn complex relationships in the data.\n",
    "- ``Dropout``, a regularization technique used to prevent overfitting. It randomly zeroes some of the elements of the input tensor with a certain probability during training.\n",
    "\n",
    "> Note that the ``ReLU`` function is a faster function that activates units only when the input is possitive, which can lead to sparse activations (that can be intended in some tasks); whereas ``GELU``, introduced after``ReLU``, offers smoother activation by modeling the input as a stochastic process, providing a probabilistic gate in the activation. In practice, ``GELU`` has been the preferred choice in the BERT and GPT models."
   ]
  },
  {
   "cell_type": "code",
   "execution_count": 101,
   "metadata": {},
   "outputs": [],
   "source": [
    "class PositionWiseFeedForward(nn.Module):\n",
    "    \"\"\"\n",
    "    Implements the PositionWiseFeedForward layer.\n",
    "\n",
    "    Args:\n",
    "        config (TransformerConfig): The configuration for the transformer model.\n",
    "    \"\"\"\n",
    "    def __init__(self, config):\n",
    "        super().__init__()\n",
    "        self.ff = nn.Sequential(\n",
    "            nn.Linear(config.d_embd, config.d_ff),\n",
    "            nn.GELU(),\n",
    "            nn.Linear(config.d_ff, config.d_embd),\n",
    "            nn.Dropout(config.drop)\n",
    "        )\n",
    "\n",
    "    def forward(self, x):\n",
    "        return self.ff(x)"
   ]
  },
  {
   "cell_type": "code",
   "execution_count": 104,
   "metadata": {},
   "outputs": [
    {
     "data": {
      "text/plain": [
       "torch.Size([1, 10, 768])"
      ]
     },
     "execution_count": 104,
     "metadata": {},
     "output_type": "execute_result"
    }
   ],
   "source": [
    "feed_forward = PositionWiseFeedForward(config)\n",
    "feed_forward_outputs = feed_forward(torch.rand(1, 10, 768))\n",
    "feed_forward_outputs.size()"
   ]
  },
  {
   "cell_type": "markdown",
   "metadata": {},
   "source": [
    "#### 3.4 Positional Encoding\n",
    "\n",
    "Since the Transformer model contains no recurrence and no convolution, the model is invariant to the position of the tokens. By adding ``positional encoding`` to the input sequence, the Transformer model can differentiate between tokens based on their position in the sequence, which is important for tasks such as language modeling and machine translation. In practice, ``positional encodings`` are added to the input embeddings at the bottoms of the ``encoder`` and ``decoder`` stacks. \n",
    "\n",
    "> As outlined in the original [Attention Is All You Need](https://arxiv.org/pdf/1706.03762.pdf) paper, ``Sinusoidal Positional Encoding`` and ``Learned Positional Encoding`` produce nearly identical results.\n",
    "\n"
   ]
  },
  {
   "cell_type": "code",
   "execution_count": 106,
   "metadata": {},
   "outputs": [],
   "source": [
    "class SinusoidalPositionalEncoding(nn.Module):\n",
    "    \"\"\"\n",
    "    Implements Sinusoidal Positional Encoding.\n",
    "\n",
    "    Parameters:\n",
    "        embed_size (int): The size of the input feature dimension.\n",
    "    \"\"\"\n",
    "    def __init__(self, config):\n",
    "        super().__init__()\n",
    "        self.d_embd = config.d_embd\n",
    "        self.max_seq_len = config.max_seq_len\n",
    "\n",
    "    def forward(self):\n",
    "        pos = torch.arange(self.max_seq_len).unsqueeze(1)\n",
    "        div_term = torch.exp(torch.arange(0, self.d_embd, 2) * -(torch.log(torch.tensor(10000.0)) / self.d_embd))\n",
    "        \n",
    "        pe = torch.zeros(self.max_seq_len, self.d_embd)\n",
    "        pe[:, 0::2] = torch.sin(pos * div_term)\n",
    "        pe[:, 1::2] = torch.cos(pos * div_term)\n",
    "\n",
    "        return pe"
   ]
  },
  {
   "cell_type": "code",
   "execution_count": 107,
   "metadata": {},
   "outputs": [
    {
     "data": {
      "text/plain": [
       "torch.Size([100, 768])"
      ]
     },
     "execution_count": 107,
     "metadata": {},
     "output_type": "execute_result"
    }
   ],
   "source": [
    "pos_encoder = SinusoidalPositionalEncoding(config)\n",
    "pos_encoding = pos_encoder()\n",
    "\n",
    "pos_encoding.shape  # Should be [max_seq_len, d_embd]"
   ]
  },
  {
   "cell_type": "code",
   "execution_count": 114,
   "metadata": {},
   "outputs": [],
   "source": [
    "class LearnedPositionalEncoding(nn.Module):\n",
    "    \"\"\"\n",
    "    Implements the LearnedPositionalEncoding layer.\n",
    "\n",
    "    Args:\n",
    "        config (TransformerConfig): The configuration for the transformer model.\n",
    "    \"\"\"\n",
    "    def __init__(self, config):\n",
    "        super().__init__()\n",
    "\n",
    "        self.pos_embd = nn.Embedding(config.max_seq_len, config.d_embd)\n",
    "        self.dropout = nn.Dropout(config.drop)\n",
    "\n",
    "    def forward(self, x):\n",
    "        embd = x + self.pos_embd(torch.arange(x.size(1), device=x.device))\n",
    "        return self.dropout(embd)"
   ]
  },
  {
   "cell_type": "code",
   "execution_count": 115,
   "metadata": {},
   "outputs": [
    {
     "data": {
      "text/plain": [
       "torch.Size([1, 100, 768])"
      ]
     },
     "execution_count": 115,
     "metadata": {},
     "output_type": "execute_result"
    }
   ],
   "source": [
    "encoding_layer = LearnedPositionalEncoding(config)\n",
    "encoding_outputs = encoding_layer(torch.rand(1, 100, 768))\n",
    "encoding_outputs.size()"
   ]
  },
  {
   "cell_type": "markdown",
   "metadata": {},
   "source": [
    "#### 3.5 Encoder\n",
    "\n",
    "Each of the six layers of both the encoder and decoder is composed of two main sub-layers: a ``multihead self-attention`` sub-layer, which as explained hereinabove allows the model to focus on different parts of the input sequence, and a ``position-wise fully connected feed-forward`` sub-layer. In addition, the model employs a ``residual connection`` around each of the two sub-layers, followed by ``layer normalization``. In our case, we implement pre layer (instead of post layer) normalization with ``Dropout`` regularization to favour stability during training and prevent overfitting, respectively.\n",
    "\n",
    "> ``layer normalization`` contributes to having zero mean and unitity variance. This helps to stabilize the learning process, and to reduce the number of training steps.\n",
    "\n",
    "> ``residual connection`` or ``skip connection`` helps alleaviate the problem of vanishing gradients by passing a tensor to the next layer of the model without processing it and adding it to the processed tensor. In other words, the output of each sub-layer is\n",
    "LayerNorm(x + Sublayer(x)), where Sublayer(x) is the function implemented by the sub-layer\n",
    "itself."
   ]
  },
  {
   "cell_type": "code",
   "execution_count": 124,
   "metadata": {},
   "outputs": [],
   "source": [
    "class EncoderLayer(nn.Module):\n",
    "    \"\"\"\n",
    "    Implements a single Encoder layer.\n",
    "\n",
    "    Args:\n",
    "        config (TransformerConfig): The configuration for the transformer model.\n",
    "    \"\"\"\n",
    "    def __init__(self, config):\n",
    "        super().__init__()\n",
    "\n",
    "        self.norm_1 = nn.LayerNorm(config.d_embd)\n",
    "        self.multihead_attn = MultiHeadAttention(config)\n",
    "\n",
    "        self.norm_2 = nn.LayerNorm(config.d_embd)\n",
    "        self.feed_forward = PositionWiseFeedForward(config)\n",
    "        \n",
    "        self.dropout = nn.Dropout(config.drop)\n",
    "        \n",
    "    def forward(self, x):\n",
    "        attn_outputs = self.multihead_attn(self.norm_1(x))\n",
    "        x = x + self.dropout(attn_outputs)\n",
    "\n",
    "        output = x + self.dropout(self.feed_forward(self.norm_2(x)))\n",
    "        return output"
   ]
  },
  {
   "cell_type": "code",
   "execution_count": 125,
   "metadata": {},
   "outputs": [
    {
     "data": {
      "text/plain": [
       "torch.Size([1, 100, 768])"
      ]
     },
     "execution_count": 125,
     "metadata": {},
     "output_type": "execute_result"
    }
   ],
   "source": [
    "encoder_layer = EncoderLayer(config)\n",
    "encoder_layer(torch.rand(1, 100, 768)).size()"
   ]
  },
  {
   "cell_type": "code",
   "execution_count": 126,
   "metadata": {},
   "outputs": [],
   "source": [
    "class Encoder(nn.Module):\n",
    "    \"\"\"\n",
    "    Implements the Encoder stack.\n",
    "\n",
    "    Parameters:\n",
    "        config (TransformerConfig): The configuration for the transformer model.\n",
    "    \"\"\"\n",
    "    def __init__(self, config):\n",
    "        super().__init__()\n",
    "        self.pos_enc = LearnedPositionalEncoding(config)\n",
    "        self.layers = nn.ModuleList([EncoderLayer(config) for _ in range(config.n_layer)])\n",
    "\n",
    "    def forward(self, x):\n",
    "        x = self.pos_enc(x)\n",
    "        for layer in self.layers:\n",
    "            x = layer(x)\n",
    "        return x"
   ]
  },
  {
   "cell_type": "code",
   "execution_count": 127,
   "metadata": {},
   "outputs": [
    {
     "data": {
      "text/plain": [
       "torch.Size([1, 10, 768])"
      ]
     },
     "execution_count": 127,
     "metadata": {},
     "output_type": "execute_result"
    }
   ],
   "source": [
    "encoder = Encoder(config)\n",
    "encoder(torch.rand(1, 10, 768)).size()"
   ]
  },
  {
   "cell_type": "markdown",
   "metadata": {},
   "source": [
    "#### 3.6 Decoder\n",
    "\n",
    "The Decoder has two attention sub-layers: ``masked multi-head self-attention layer`` and ``encoder-decoder attention layer``."
   ]
  },
  {
   "cell_type": "code",
   "execution_count": 130,
   "metadata": {},
   "outputs": [],
   "source": [
    "class DecoderLayer(nn.Module):\n",
    "    \"\"\"\n",
    "    Implements a single Decoder layer.\n",
    "\n",
    "    Args:\n",
    "        config (TransformerConfig): The configuration for the transformer model.\n",
    "    \"\"\"\n",
    "    def __init__(self, config):\n",
    "        super().__init__()\n",
    "        self.norm_1 = nn.LayerNorm(config.d_embd)\n",
    "        self.masked_attn = MultiHeadAttention(config)\n",
    "\n",
    "        self.norm_2 = nn.LayerNorm(config.d_embd)\n",
    "        self.cross_attn = MultiHeadAttention(config)\n",
    "\n",
    "        self.norm_3 = nn.LayerNorm(config.d_embd)\n",
    "        self.feed_forward = PositionWiseFeedForward(config)\n",
    "        \n",
    "        self.dropout = nn.Dropout(config.drop)\n",
    "\n",
    "    def forward(self, x, enc_output, mask=None):\n",
    "        attn_output = self.masked_attn(x, mask)\n",
    "        x = self.norm_1(x + self.dropout(attn_output))\n",
    "\n",
    "        # cross_attn_output = self.cross_attn(x, enc_output) ??\n",
    "        cross_attn_output = self.cross_attn(x)\n",
    "        x = self.norm_2(x + self.dropout(cross_attn_output))\n",
    "\n",
    "        output = self.norm_3(x + self.dropout(self.feed_forward(x)))\n",
    "        return output"
   ]
  },
  {
   "cell_type": "code",
   "execution_count": 131,
   "metadata": {},
   "outputs": [
    {
     "data": {
      "text/plain": [
       "torch.Size([1, 100, 768])"
      ]
     },
     "execution_count": 131,
     "metadata": {},
     "output_type": "execute_result"
    }
   ],
   "source": [
    "decoder_layer = DecoderLayer(config)\n",
    "decoder_layer(torch.rand(1, 100, 768), torch.rand(1, 100, 768), mask=None).size()"
   ]
  },
  {
   "cell_type": "code",
   "execution_count": 135,
   "metadata": {},
   "outputs": [],
   "source": [
    "class Decoder(nn.Module):\n",
    "    \"\"\"\n",
    "    Implements the Decoder stack.\n",
    "\n",
    "    Args:\n",
    "        config (TransformerConfig): The configuration for the transformer model.\n",
    "    \"\"\"\n",
    "    def __init__(self, config):\n",
    "        super().__init__()\n",
    "        self.pos_enc = LearnedPositionalEncoding(config)\n",
    "        self.layers = nn.ModuleList([DecoderLayer(config) for _ in range(config.n_layer)])\n",
    "\n",
    "    def forward(self, x, enc_output, mask=None):\n",
    "        x = self.pos_enc(x)\n",
    "        for layer in self.layers:\n",
    "            x = layer(x, enc_output)\n",
    "        return x"
   ]
  },
  {
   "cell_type": "code",
   "execution_count": 133,
   "metadata": {},
   "outputs": [
    {
     "data": {
      "text/plain": [
       "torch.Size([1, 100, 768])"
      ]
     },
     "execution_count": 133,
     "metadata": {},
     "output_type": "execute_result"
    }
   ],
   "source": [
    "decoder = Decoder(config)\n",
    "decoder(x=torch.rand(1, 100, 768), enc_output=torch.rand(1, 100, 768)).size()"
   ]
  },
  {
   "cell_type": "markdown",
   "metadata": {},
   "source": [
    "#### 3.7 Transformer"
   ]
  },
  {
   "cell_type": "code",
   "execution_count": 134,
   "metadata": {},
   "outputs": [],
   "source": [
    "class Transfomer(nn.Module):\n",
    "    \"\"\"\n",
    "    Implements the Transformer architecture.\n",
    "\n",
    "    Args:\n",
    "        config (TransformerConfig): The configuration for the transformer model.\n",
    "    \"\"\"\n",
    "    def __init__(self, config):\n",
    "        super().__init__()\n",
    "        self.encoder = Encoder(config)\n",
    "        self.decoder = Decoder(config)\n",
    "\n",
    "    def forward(self, src, tgt, src_mask=None, tgt_mask=None):\n",
    "        enc_output = self.encoder(src)\n",
    "        dec_output = self.decoder(tgt, enc_output)\n",
    "        return dec_output"
   ]
  }
 ],
 "metadata": {
  "kernelspec": {
   "display_name": ".venv",
   "language": "python",
   "name": "python3"
  },
  "language_info": {
   "codemirror_mode": {
    "name": "ipython",
    "version": 3
   },
   "file_extension": ".py",
   "mimetype": "text/x-python",
   "name": "python",
   "nbconvert_exporter": "python",
   "pygments_lexer": "ipython3",
   "version": "3.11.6"
  }
 },
 "nbformat": 4,
 "nbformat_minor": 2
}
